{
 "cells": [
  {
   "cell_type": "markdown",
   "metadata": {},
   "source": [
    "## Question 2"
   ]
  },
  {
   "cell_type": "markdown",
   "metadata": {},
   "source": [
    "## Leave-One-Out Cross Validation"
   ]
  },
  {
   "cell_type": "markdown",
   "metadata": {},
   "source": [
    "A special case of K-Fold cross-validation is Leave-One-Out cross- validation\n",
    "where K (i.e., the number of folds/subsets) is equal to the size of the\n",
    "training dataset. In each iteration, one training data point is used as the\n",
    "validation set and the other data points as training data points."
   ]
  },
  {
   "cell_type": "code",
   "execution_count": 1,
   "metadata": {},
   "outputs": [],
   "source": [
    "#importing libraries\n",
    "library(ggplot2)\n",
    "library(reshape2)"
   ]
  },
  {
   "cell_type": "code",
   "execution_count": 2,
   "metadata": {},
   "outputs": [
    {
     "data": {
      "text/html": [
       "<table>\n",
       "<caption>A data.frame: 6 × 2</caption>\n",
       "<thead>\n",
       "\t<tr><th scope=col>x1</th><th scope=col>y</th></tr>\n",
       "\t<tr><th scope=col>&lt;dbl&gt;</th><th scope=col>&lt;dbl&gt;</th></tr>\n",
       "</thead>\n",
       "<tbody>\n",
       "\t<tr><td>1960.0</td><td>0.71</td></tr>\n",
       "\t<tr><td>1960.5</td><td>0.85</td></tr>\n",
       "\t<tr><td>1961.0</td><td>0.61</td></tr>\n",
       "\t<tr><td>1961.5</td><td>0.92</td></tr>\n",
       "\t<tr><td>1962.0</td><td>0.72</td></tr>\n",
       "\t<tr><td>1962.5</td><td>0.92</td></tr>\n",
       "</tbody>\n",
       "</table>\n"
      ],
      "text/latex": [
       "A data.frame: 6 × 2\n",
       "\\begin{tabular}{r|ll}\n",
       " x1 & y\\\\\n",
       " <dbl> & <dbl>\\\\\n",
       "\\hline\n",
       "\t 1960.0 & 0.71\\\\\n",
       "\t 1960.5 & 0.85\\\\\n",
       "\t 1961.0 & 0.61\\\\\n",
       "\t 1961.5 & 0.92\\\\\n",
       "\t 1962.0 & 0.72\\\\\n",
       "\t 1962.5 & 0.92\\\\\n",
       "\\end{tabular}\n"
      ],
      "text/markdown": [
       "\n",
       "A data.frame: 6 × 2\n",
       "\n",
       "| x1 &lt;dbl&gt; | y &lt;dbl&gt; |\n",
       "|---|---|\n",
       "| 1960.0 | 0.71 |\n",
       "| 1960.5 | 0.85 |\n",
       "| 1961.0 | 0.61 |\n",
       "| 1961.5 | 0.92 |\n",
       "| 1962.0 | 0.72 |\n",
       "| 1962.5 | 0.92 |\n",
       "\n"
      ],
      "text/plain": [
       "  x1     y   \n",
       "1 1960.0 0.71\n",
       "2 1960.5 0.85\n",
       "3 1961.0 0.61\n",
       "4 1961.5 0.92\n",
       "5 1962.0 0.72\n",
       "6 1962.5 0.92"
      ]
     },
     "metadata": {},
     "output_type": "display_data"
    }
   ],
   "source": [
    "#reading train data\n",
    "train_data <- read.csv(\"Task1A_train.csv\")\n",
    "head(train_data)"
   ]
  },
  {
   "cell_type": "code",
   "execution_count": 3,
   "metadata": {},
   "outputs": [
    {
     "data": {
      "text/html": [
       "<table>\n",
       "<caption>A data.frame: 6 × 1</caption>\n",
       "<thead>\n",
       "\t<tr><th scope=col>x1</th></tr>\n",
       "\t<tr><th scope=col>&lt;dbl&gt;</th></tr>\n",
       "</thead>\n",
       "<tbody>\n",
       "\t<tr><td>1960.0</td></tr>\n",
       "\t<tr><td>1960.5</td></tr>\n",
       "\t<tr><td>1961.0</td></tr>\n",
       "\t<tr><td>1961.5</td></tr>\n",
       "\t<tr><td>1962.0</td></tr>\n",
       "\t<tr><td>1962.5</td></tr>\n",
       "</tbody>\n",
       "</table>\n"
      ],
      "text/latex": [
       "A data.frame: 6 × 1\n",
       "\\begin{tabular}{r|l}\n",
       " x1\\\\\n",
       " <dbl>\\\\\n",
       "\\hline\n",
       "\t 1960.0\\\\\n",
       "\t 1960.5\\\\\n",
       "\t 1961.0\\\\\n",
       "\t 1961.5\\\\\n",
       "\t 1962.0\\\\\n",
       "\t 1962.5\\\\\n",
       "\\end{tabular}\n"
      ],
      "text/markdown": [
       "\n",
       "A data.frame: 6 × 1\n",
       "\n",
       "| x1 &lt;dbl&gt; |\n",
       "|---|\n",
       "| 1960.0 |\n",
       "| 1960.5 |\n",
       "| 1961.0 |\n",
       "| 1961.5 |\n",
       "| 1962.0 |\n",
       "| 1962.5 |\n",
       "\n"
      ],
      "text/plain": [
       "  x1    \n",
       "1 1960.0\n",
       "2 1960.5\n",
       "3 1961.0\n",
       "4 1961.5\n",
       "5 1962.0\n",
       "6 1962.5"
      ]
     },
     "metadata": {},
     "output_type": "display_data"
    }
   ],
   "source": [
    "#split the train data into data which consists of only 'x1' column\n",
    "train_dataa <- train_data['x1']\n",
    "head(train_dataa)"
   ]
  },
  {
   "cell_type": "code",
   "execution_count": 4,
   "metadata": {},
   "outputs": [
    {
     "data": {
      "text/html": [
       "<table>\n",
       "<caption>A data.frame: 6 × 1</caption>\n",
       "<thead>\n",
       "\t<tr><th scope=col>y</th></tr>\n",
       "\t<tr><th scope=col>&lt;dbl&gt;</th></tr>\n",
       "</thead>\n",
       "<tbody>\n",
       "\t<tr><td>0.71</td></tr>\n",
       "\t<tr><td>0.85</td></tr>\n",
       "\t<tr><td>0.61</td></tr>\n",
       "\t<tr><td>0.92</td></tr>\n",
       "\t<tr><td>0.72</td></tr>\n",
       "\t<tr><td>0.92</td></tr>\n",
       "</tbody>\n",
       "</table>\n"
      ],
      "text/latex": [
       "A data.frame: 6 × 1\n",
       "\\begin{tabular}{r|l}\n",
       " y\\\\\n",
       " <dbl>\\\\\n",
       "\\hline\n",
       "\t 0.71\\\\\n",
       "\t 0.85\\\\\n",
       "\t 0.61\\\\\n",
       "\t 0.92\\\\\n",
       "\t 0.72\\\\\n",
       "\t 0.92\\\\\n",
       "\\end{tabular}\n"
      ],
      "text/markdown": [
       "\n",
       "A data.frame: 6 × 1\n",
       "\n",
       "| y &lt;dbl&gt; |\n",
       "|---|\n",
       "| 0.71 |\n",
       "| 0.85 |\n",
       "| 0.61 |\n",
       "| 0.92 |\n",
       "| 0.72 |\n",
       "| 0.92 |\n",
       "\n"
      ],
      "text/plain": [
       "  y   \n",
       "1 0.71\n",
       "2 0.85\n",
       "3 0.61\n",
       "4 0.92\n",
       "5 0.72\n",
       "6 0.92"
      ]
     },
     "metadata": {},
     "output_type": "display_data"
    }
   ],
   "source": [
    "#split the train data into label  which consists of only 'y' column\n",
    "train_label <- train_data['y']\n",
    "head(train_label)"
   ]
  },
  {
   "cell_type": "markdown",
   "metadata": {},
   "source": [
    "## KNN regressor:\n",
    "\n",
    "A KNN regressor is similar to a KNN classifier , finds the K nearest neighbors and estimates the value of the given\n",
    "test point based on the values of its neighbours. The main difference between KNN\n",
    "regression and KNN classification is that KNN classifier returns the label that has\n",
    "the majority vote in the neighborhood, whilst KNN regressor returns the average\n",
    "of the neighbors’ values. "
   ]
  },
  {
   "cell_type": "code",
   "execution_count": 5,
   "metadata": {},
   "outputs": [],
   "source": [
    "#using knn classification algorithm, for each test data point, we will predict the test label based on the nearest train data points\n",
    "knnregressor <- function(train.data, train.label, test.data, K = 5, distance = 'manhattan'){\n",
    "    \n",
    "    #getting the length of train and test data points\n",
    "    train.len <- nrow(train.data)\n",
    "    test.len <- nrow(test.data)\n",
    "    \n",
    "    #for each test data point, we will calculate the distance of that particular test data point with respect to all training data points, and then select\n",
    "    #an appropriate portion of it. Here, we will add one more parameter drop , in order to overwrite the distance of each samples for each fold.\n",
    "    dist <- as.matrix(dist(rbind(test.data, train.data), method = distance))[1:test.len, (test.len+1):(test.len+train.len), drop = FALSE]\n",
    "    \n",
    "    test_label_predicted <- c()\n",
    "    \n",
    "    #we will traverse through via for loop for all the test data points, and for each test data point, the portion of train data points obtained are sorted \n",
    "    #based on the distances and the average of those train label points is estimated as the label for test data point.\n",
    "    for (i in 1:test.len){\n",
    "        nn <- as.data.frame(sort(dist[i,], index.return = TRUE))[1:K,2]\n",
    "        test_label_predicted[i] <- mean(train.label[nn,])\n",
    "    }\n",
    "    return (test_label_predicted)\n",
    "}"
   ]
  },
  {
   "cell_type": "markdown",
   "metadata": {},
   "source": [
    "## Question 2.1 Implementing a Leave-One-Out cross-validation (CV) function for KNN regressor function"
   ]
  },
  {
   "cell_type": "code",
   "execution_count": 6,
   "metadata": {},
   "outputs": [],
   "source": [
    "cv <- function(train_dataa, train_label, K, numFold = length(train_dataa)){\n",
    "    \n",
    "    #we are initialzing the vector, which returns mean of all the obtained test labels from knnregressor function\n",
    "    cv_folds_errors <- c()\n",
    "\n",
    "    #using for loop we will traverse through all the numFolds, which is equal to the size of training dataset\n",
    "    for (i in 1:42){\n",
    "                \n",
    "        #below parameter values represent train-data, where when we traverse through the complete size of training dataset, except the index i.e. representing\n",
    "        #remaning all the points are considered as train data points\n",
    "        t1_data <- train_dataa[-i,1]\n",
    "        t1_label <- train_label[-i,1]\n",
    "        \n",
    "        #below parameter values represent test-data point i.e. the value present in the index is testing data point point.\n",
    "        t2_data <- train_dataa[i,1]\n",
    "        t2_label <- train_label[i,1]\n",
    "        \n",
    "        #we are converting it into the data frame, because these values must be passed to the knnregressor function, which is functioned above based on the\n",
    "        #dataframe and the column names has been initialized to overcome the inconsistency of label names when they are converted into the dataframe. If we dont \n",
    "        #mention the column names, dataframe takes other column names\n",
    "        t1_data1 <- data.frame('x1' = t1_data)\n",
    "        t1_label1 <- data.frame('y' = t1_label)\n",
    "        \n",
    "        t2_data1 <- data.frame('x1' = t2_data)\n",
    "        t2_label1 <- data.frame('y' = t2_label)\n",
    "        \n",
    "        #calling the knnregressor function for each fold of LOOCV and returning the errors using rmse for each test data point \n",
    "        cv_folds_errors[i] <- sqrt(sum((knnregressor(t1_data1, t1_label1, t2_data1, K = K) - t2_label1) ** 2)/ nrow(t2_data1))\n",
    "\n",
    "     }\n",
    "    #returning average error for all folds\n",
    "    return (mean(cv_folds_errors))\n",
    "    }"
   ]
  },
  {
   "cell_type": "code",
   "execution_count": 7,
   "metadata": {},
   "outputs": [
    {
     "data": {
      "text/html": [
       "0.393452380952381"
      ],
      "text/latex": [
       "0.393452380952381"
      ],
      "text/markdown": [
       "0.393452380952381"
      ],
      "text/plain": [
       "[1] 0.3934524"
      ]
     },
     "metadata": {},
     "output_type": "display_data"
    }
   ],
   "source": [
    "#calling cv function with the required parameters\n",
    "cv(train_dataa, train_label, K = 2 )"
   ]
  },
  {
   "cell_type": "markdown",
   "metadata": {},
   "source": [
    "## Question 2.2\n",
    "\n",
    "Using the training data in Question 1, run your Leave-One-Out CV. Change\n",
    "the value of K=1,..,15 in your KNN regressor, and for each K compute the\n",
    "average of error values you have got for folds. Plot the average of error\n",
    "values versus 1/K for K=1,..,15 in your KNN regressor. Save the plot in your\n",
    "Jupyter Notebook file for Question 2."
   ]
  },
  {
   "cell_type": "code",
   "execution_count": 8,
   "metadata": {},
   "outputs": [],
   "source": [
    "#creating a dataframe to record all the errors with respect to the 'k' value\n",
    "average_error_folds <- data.frame('K' = 1:15 , 'errors' = 1:15 )\n",
    "#traversing through the for loop for all k values, and noting the errors generated via cv function\n",
    "for (i in 1:15){\n",
    "    \n",
    "    average_error_folds[i,'K'] = i\n",
    "    average_error_folds[i, 'errors'] = cv(train_dataa, train_label, i, 42)\n",
    "    \n",
    "}"
   ]
  },
  {
   "cell_type": "code",
   "execution_count": 9,
   "metadata": {},
   "outputs": [
    {
     "data": {
      "text/html": [
       "<table>\n",
       "<caption>A data.frame: 15 × 2</caption>\n",
       "<thead>\n",
       "\t<tr><th scope=col>K</th><th scope=col>errors</th></tr>\n",
       "\t<tr><th scope=col>&lt;int&gt;</th><th scope=col>&lt;dbl&gt;</th></tr>\n",
       "</thead>\n",
       "<tbody>\n",
       "\t<tr><td> 1</td><td>0.4911905</td></tr>\n",
       "\t<tr><td> 2</td><td>0.3934524</td></tr>\n",
       "\t<tr><td> 3</td><td>0.3615873</td></tr>\n",
       "\t<tr><td> 4</td><td>0.3113690</td></tr>\n",
       "\t<tr><td> 5</td><td>0.3819524</td></tr>\n",
       "\t<tr><td> 6</td><td>0.4253571</td></tr>\n",
       "\t<tr><td> 7</td><td>0.4668367</td></tr>\n",
       "\t<tr><td> 8</td><td>0.5256845</td></tr>\n",
       "\t<tr><td> 9</td><td>0.5667989</td></tr>\n",
       "\t<tr><td>10</td><td>0.6429524</td></tr>\n",
       "\t<tr><td>11</td><td>0.6792208</td></tr>\n",
       "\t<tr><td>12</td><td>0.7872024</td></tr>\n",
       "\t<tr><td>13</td><td>0.8174359</td></tr>\n",
       "\t<tr><td>14</td><td>0.9106633</td></tr>\n",
       "\t<tr><td>15</td><td>0.9192381</td></tr>\n",
       "</tbody>\n",
       "</table>\n"
      ],
      "text/latex": [
       "A data.frame: 15 × 2\n",
       "\\begin{tabular}{r|ll}\n",
       " K & errors\\\\\n",
       " <int> & <dbl>\\\\\n",
       "\\hline\n",
       "\t  1 & 0.4911905\\\\\n",
       "\t  2 & 0.3934524\\\\\n",
       "\t  3 & 0.3615873\\\\\n",
       "\t  4 & 0.3113690\\\\\n",
       "\t  5 & 0.3819524\\\\\n",
       "\t  6 & 0.4253571\\\\\n",
       "\t  7 & 0.4668367\\\\\n",
       "\t  8 & 0.5256845\\\\\n",
       "\t  9 & 0.5667989\\\\\n",
       "\t 10 & 0.6429524\\\\\n",
       "\t 11 & 0.6792208\\\\\n",
       "\t 12 & 0.7872024\\\\\n",
       "\t 13 & 0.8174359\\\\\n",
       "\t 14 & 0.9106633\\\\\n",
       "\t 15 & 0.9192381\\\\\n",
       "\\end{tabular}\n"
      ],
      "text/markdown": [
       "\n",
       "A data.frame: 15 × 2\n",
       "\n",
       "| K &lt;int&gt; | errors &lt;dbl&gt; |\n",
       "|---|---|\n",
       "|  1 | 0.4911905 |\n",
       "|  2 | 0.3934524 |\n",
       "|  3 | 0.3615873 |\n",
       "|  4 | 0.3113690 |\n",
       "|  5 | 0.3819524 |\n",
       "|  6 | 0.4253571 |\n",
       "|  7 | 0.4668367 |\n",
       "|  8 | 0.5256845 |\n",
       "|  9 | 0.5667989 |\n",
       "| 10 | 0.6429524 |\n",
       "| 11 | 0.6792208 |\n",
       "| 12 | 0.7872024 |\n",
       "| 13 | 0.8174359 |\n",
       "| 14 | 0.9106633 |\n",
       "| 15 | 0.9192381 |\n",
       "\n"
      ],
      "text/plain": [
       "   K  errors   \n",
       "1   1 0.4911905\n",
       "2   2 0.3934524\n",
       "3   3 0.3615873\n",
       "4   4 0.3113690\n",
       "5   5 0.3819524\n",
       "6   6 0.4253571\n",
       "7   7 0.4668367\n",
       "8   8 0.5256845\n",
       "9   9 0.5667989\n",
       "10 10 0.6429524\n",
       "11 11 0.6792208\n",
       "12 12 0.7872024\n",
       "13 13 0.8174359\n",
       "14 14 0.9106633\n",
       "15 15 0.9192381"
      ]
     },
     "metadata": {},
     "output_type": "display_data"
    }
   ],
   "source": [
    "#printing the dataframe\n",
    "average_error_folds"
   ]
  },
  {
   "cell_type": "code",
   "execution_count": 10,
   "metadata": {},
   "outputs": [
    {
     "data": {
      "image/png": "[encoded data removed]",
      "text/plain": [
       "plot without title"
      ]
     },
     "metadata": {},
     "output_type": "display_data"
    }
   ],
   "source": [
    "#Drawing ggplot for 1/k values versus errors\n",
    "options(repr.plot.width = 10, repr.plot.height = 8)\n",
    "ggplot(data = average_error_folds, aes(x = 1/K, y = errors)) + geom_line(color = \"red\" ) +\n",
    "       scale_color_discrete(guide = guide_legend(title = NULL)) + theme_minimal() +\n",
    "       ggtitle(\"Missclassification Errors\")"
   ]
  },
  {
   "cell_type": "markdown",
   "metadata": {},
   "source": [
    "## Question 2.3\n",
    "\n",
    "## Report the optimum value of k"
   ]
  },
  {
   "cell_type": "markdown",
   "metadata": {},
   "source": [
    "1.The optimum value of 1/K is observed at the point where the local minimum is observed. Always the point that is having the local minimum is considered as the best optimum value.\n",
    "\n",
    "2.1/k = 0.25 is having the local minimum -> k = 1/0.25 = 100/25 = 4 \n",
    "\n",
    "Therefore, k = 4 is having the best optimum value from the above drawn graph for missclassifications of errors with respect to 1/k value."
   ]
  }
 ],
 "metadata": {
  "kernelspec": {
   "display_name": "R",
   "language": "R",
   "name": "ir"
  },
  "language_info": {
   "codemirror_mode": "r",
   "file_extension": ".r",
   "mimetype": "text/x-r-source",
   "name": "R",
   "pygments_lexer": "r",
   "version": "3.5.3"
  }
 },
 "nbformat": 4,
 "nbformat_minor": 2
}
